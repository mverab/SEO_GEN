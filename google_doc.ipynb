{
 "cells": [
  {
   "cell_type": "code",
   "execution_count": 1,
   "metadata": {},
   "outputs": [],
   "source": [
    "import datetime as dt\n",
    "import os\n",
    "\n",
    "from google.auth.transport.requests import Request\n",
    "from google.oauth2.credentials import Credentials\n",
    "from google_auth_oauthlib.flow import InstalledAppFlow\n",
    "from googleapiclient.discovery import build\n",
    "from googleapiclient.errors import HttpError"
   ]
  },
  {
   "cell_type": "code",
   "execution_count": 5,
   "metadata": {},
   "outputs": [
    {
     "name": "stdout",
     "output_type": "stream",
     "text": [
      "Please visit this URL to authorize this application: https://accounts.google.com/o/oauth2/auth?response_type=code&client_id=873617843857-o4o31r7bd8tbbqh6ju0hqvtnu3jc0nv9.apps.googleusercontent.com&redirect_uri=http%3A%2F%2Flocalhost%3A50626%2F&scope=https%3A%2F%2Fwww.googleapis.com%2Fauth%2Fdrive&state=ZhWiv8x5pCuYJqmnBMEzB3Pm71F5hT&access_type=offline\n"
     ]
    }
   ],
   "source": [
    "def token():\n",
    "    import os.path\n",
    "SCOPES = ['https://www.googleapis.com/auth/drive']\n",
    "\n",
    "def main():\n",
    "\n",
    "    creds = None\n",
    "\n",
    "    if os.path.exists('token.json'):\n",
    "        creds = Credentials.from_authorized_user_file('token.json', SCOPES)\n",
    "        # If there are no (valid) credentials available, let the user log in.\n",
    "        if not creds or not creds.valid:\n",
    "            if creds and creds.expired and creds.refresh_token:\n",
    "                creds.refresh(Request())\n",
    "    else:\n",
    "        flow = InstalledAppFlow.from_client_secrets_file(\n",
    "            'credentials.json', SCOPES)\n",
    "        creds = flow.run_local_server(port=0)\n",
    "        # Save the credentials for the next run\n",
    "        with open('token.json', 'w') as token:\n",
    "            token.write(creds.to_json())\n",
    "\n",
    "if __name__ == '__main__':\n",
    "    main()\n",
    "\n",
    "    token ()"
   ]
  },
  {
   "cell_type": "code",
   "execution_count": 7,
   "metadata": {},
   "outputs": [],
   "source": [
    "def doc_id(title):\n",
    "    # set up credentials\n",
    "    creds = None\n",
    "    if os.path.exists('token.json'):\n",
    "        creds = Credentials.from_authorized_user_file('token.json', ['https://www.googleapis.com/auth/drive', 'https://www.googleapis.com/auth/documents'])\n",
    "    \n",
    "    # Build the Drive and Docs API service objects\n",
    "    drive_service = build('drive', 'v3', credentials=creds)\n",
    "    docs_service = build('docs', 'v1', credentials=creds)\n",
    "\n",
    "    # Replace with the ID of the Google Drive folder where you want to create the Doc\n",
    "    folder_id = '1pWq2YQ1iSjA_xQHRMKu4e57jzpdURIK2'\n",
    "\n",
    "    # Replace with the title you want for your new Google Doc\n",
    "    doc_title = title\n",
    "\n",
    "    # Create a new Google Doc in the specified folder\n",
    "    doc_metadata = {\n",
    "        'name': doc_title,\n",
    "        'parents': [folder_id],\n",
    "        'mimeType': 'application/vnd.google-apps.document'\n",
    "    }\n",
    "\n",
    "    drive_service = build('drive', 'v3', credentials=creds)\n",
    "    doc = drive_service.files().create(body=doc_metadata).execute()\n",
    "\n",
    "    # Get the ID of the new document\n",
    "    id = doc['id']\n",
    "    return id\n",
    "\n",
    "id = doc_id ('demo google doc')"
   ]
  },
  {
   "cell_type": "code",
   "execution_count": 8,
   "metadata": {},
   "outputs": [],
   "source": [
    "def doc_content(message, id):\n",
    "    creds = None\n",
    "    if os.path.exists('token.json'):\n",
    "        creds = Credentials.from_authorized_user_file('token.json', ['https://www.googleapis.com/auth/drive', 'https://www.googleapis.com/auth/documents'])\n",
    "    \n",
    "    docs_service = build('docs', 'v1', credentials=creds)\n",
    "    time = dt.datetime.now()\n",
    "    time = time.time()\n",
    "\n",
    "    requests = [\n",
    "        {\n",
    "            'insertText': {\n",
    "                'location': {\n",
    "                    'index': 1\n",
    "                },\n",
    "                'text': message\n",
    "            }\n",
    "        }\n",
    "    ]\n",
    "\n",
    "    result = docs_service.documents().batchUpdate(documentId=id, body={'requests': requests}).execute()\n",
    "\n",
    "my_message = \"Mensaje de prueba\" \n",
    "doc_content (my_message,id)\n"
   ]
  }
 ],
 "metadata": {
  "kernelspec": {
   "display_name": ".venv",
   "language": "python",
   "name": "python3"
  },
  "language_info": {
   "codemirror_mode": {
    "name": "ipython",
    "version": 3
   },
   "file_extension": ".py",
   "mimetype": "text/x-python",
   "name": "python",
   "nbconvert_exporter": "python",
   "pygments_lexer": "ipython3",
   "version": "3.12.4"
  }
 },
 "nbformat": 4,
 "nbformat_minor": 2
}
